{
  "nbformat": 4,
  "nbformat_minor": 0,
  "metadata": {
    "colab": {
      "provenance": []
    },
    "kernelspec": {
      "name": "python3",
      "display_name": "Python 3"
    },
    "language_info": {
      "name": "python"
    }
  },
  "cells": [
    {
      "cell_type": "code",
      "execution_count": null,
      "metadata": {
        "id": "xkL40HHuITwP"
      },
      "outputs": [],
      "source": [
        "#data processing libraries from last time\n",
        "import numpy as np\n",
        "import pandas as pd\n",
        "import matplotlib.pyplot as plt\n",
        "\n",
        "#sklearn imports\n",
        "#scales data to fit within range(say -1 to 1), averages out here\n",
        "from sklearn.preprocessing import StandardScaler\n",
        "#automatically splits data into training and testing\n",
        "from sklearn.model_selection import train_test_split\n",
        "#KNN algorithm\n",
        "from sklearn.neighbors import KNeighborsClassifier\n",
        "#decision tree\n",
        "from sklearn.tree import DecisionTreeClassifier\n",
        "#ensemble can combine models to work at once\n",
        "from sklearn import ensemble\n",
        "#random forest, creates a combination of decision trees and gets the best output\n",
        "from sklearn.ensemble import RandomForestClassifier\n",
        "#extra entities that report on how accurate the models are\n",
        "from sklearn.metrics import classification_report, confusion_matrix"
      ]
    },
    {
      "cell_type": "code",
      "source": [
        "df = pd.read_csv(\"/kaggle/input/titanic/train.csv\")\n",
        "df = df.drop(['Name', 'Cabin', 'Ticket'], axis=1)\n",
        "df"
      ],
      "metadata": {
        "id": "OzO81ntCJHGK"
      },
      "execution_count": null,
      "outputs": []
    },
    {
      "cell_type": "code",
      "source": [
        "df = pd.get_dummies(df, columns = ['Sex', 'Embarked'])\n",
        "columns = ['Sex_female', 'Sex_male', 'Embarked_C', 'Embarked_Q', 'Embarked_S']\n",
        "df[columns] = df[columns].astype(int)"
      ],
      "metadata": {
        "id": "g9zg-0-2JIqI"
      },
      "execution_count": null,
      "outputs": []
    },
    {
      "cell_type": "code",
      "source": [
        "df.fillna(df.mean(), inplace = True)\n",
        "df"
      ],
      "metadata": {
        "id": "yf_vOXcxJJtw"
      },
      "execution_count": null,
      "outputs": []
    }
  ]
}