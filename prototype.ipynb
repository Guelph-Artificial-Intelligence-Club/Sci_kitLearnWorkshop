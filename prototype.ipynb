{
  "nbformat": 4,
  "nbformat_minor": 0,
  "metadata": {
    "colab": {
      "provenance": []
    },
    "kernelspec": {
      "name": "python3",
      "display_name": "Python 3"
    },
    "language_info": {
      "name": "python"
    }
  },
  "cells": [
    {
      "cell_type": "code",
      "execution_count": null,
      "metadata": {
        "id": "xkL40HHuITwP"
      },
      "outputs": [],
      "source": [
        "#data processing libraries from last time\n",
        "import numpy as np\n",
        "import pandas as pd\n",
        "import matplotlib.pyplot as plt\n",
        "\n",
        "#sklearn imports\n",
        "#scales data to fit within range(say -1 to 1), averages out here\n",
        "from sklearn.preprocessing import StandardScaler\n",
        "#automatically splits data into training and testing\n",
        "from sklearn.model_selection import train_test_split\n",
        "#KNN algorithm\n",
        "from sklearn.neighbors import KNeighborsClassifier\n",
        "#decision tree\n",
        "from sklearn.tree import DecisionTreeClassifier\n",
        "#simple neural network\n",
        "from sklearn.neural_network import MLPClassifier\n",
        "#ensemble can combine models to work at once, voting classifier chooses best combination of models\n",
        "from sklearn import ensemble\n",
        "from sklearn.ensemble import VotingClassifier\n",
        "#random forest, creates a combination of decision trees and gets the best output\n",
        "from sklearn.ensemble import RandomForestClassifier\n",
        "#extra entities that report on how accurate the models are\n",
        "from sklearn.metrics import classification_report, confusion_matrix\n",
        "#trying multiple models to optimize parameters\n",
        "from sklearn.model_selection import GridSearchCV"
      ]
    },
    {
      "cell_type": "code",
      "source": [
        "df = pd.read_csv(\"/kaggle/input/titanic/train.csv\")\n",
        "df = df.drop(['Name', 'Cabin', 'Ticket'], axis=1)\n",
        "df"
      ],
      "metadata": {
        "id": "OzO81ntCJHGK"
      },
      "execution_count": null,
      "outputs": []
    },
    {
      "cell_type": "code",
      "source": [
        "df = pd.get_dummies(df, columns = ['Sex', 'Embarked'])\n",
        "columns = ['Sex_female', 'Sex_male', 'Embarked_C', 'Embarked_Q', 'Embarked_S']\n",
        "df[columns] = df[columns].astype(int)"
      ],
      "metadata": {
        "id": "g9zg-0-2JIqI"
      },
      "execution_count": null,
      "outputs": []
    },
    {
      "cell_type": "code",
      "source": [
        "df.fillna(df.mean(), inplace = True)\n",
        "df"
      ],
      "metadata": {
        "id": "yf_vOXcxJJtw"
      },
      "execution_count": null,
      "outputs": []
    },
    {
      "cell_type": "code",
      "source": [
        "#loading in test data, we don't have to do a train/test split it's already done for us, may not actually use this stay tuned......\n",
        "test = pd.read_csv(\"/kaggle/input/titanic/test.csv\")\n",
        "ids = test['PassengerId']\n",
        "test = test.drop(['Name', 'Cabin', 'Ticket', 'PassengerId'], axis=1)\n",
        "test = pd.get_dummies(test, columns = ['Sex', 'Embarked'])\n",
        "columns = ['Sex_female', 'Sex_male', 'Embarked_C', 'Embarked_Q', 'Embarked_S']\n",
        "test[columns] = test[columns].astype(int)\n",
        "test"
      ],
      "metadata": {
        "id": "09CQ2tE49p5B"
      },
      "execution_count": null,
      "outputs": []
    },
    {
      "cell_type": "code",
      "source": [
        "#making the models, optimizing parameters and creating ensemble"
      ],
      "metadata": {
        "id": "UiV94YTw-nXr"
      },
      "execution_count": null,
      "outputs": []
    },
    {
      "cell_type": "code",
      "source": [
        "ensemble.fit(X, y)\n",
        "p = ensemble.predict(X)"
      ],
      "metadata": {
        "id": "IzYQywlq-zUS"
      },
      "execution_count": null,
      "outputs": []
    },
    {
      "cell_type": "code",
      "source": [
        "#these show accuracy and display what the model can really do\n",
        "print(confusion_matrix(y, p))\n",
        "print(classification_report(y, p))"
      ],
      "metadata": {
        "id": "AFyrFa1Z-2YK"
      },
      "execution_count": null,
      "outputs": []
    }
  ]
}
